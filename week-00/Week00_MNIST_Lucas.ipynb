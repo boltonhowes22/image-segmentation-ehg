{
  "nbformat": 4,
  "nbformat_minor": 0,
  "metadata": {
    "colab": {
      "name": "Week00-MNIST_Lucas.ipynb",
      "provenance": [],
      "collapsed_sections": [
        "ttxbOvDOJ9is"
      ]
    },
    "kernelspec": {
      "name": "python3",
      "display_name": "Python 3"
    }
  },
  "cells": [
    {
      "cell_type": "markdown",
      "metadata": {
        "id": "GsmSK5S7AXeJ",
        "colab_type": "text"
      },
      "source": [
        "# Week 0: MNIST: Familiarize with Keras/TensorFlow\n",
        "\n",
        "For part 2 of this week's coding challenge we will play with some of the convolutional neural network tools developed by Keras and TensorFlow by applying them to the MNIST dataset (for some background on the MNIST datatset, see [this link](http://neuralnetworksanddeeplearning.com/chap1.html)).\n",
        "\n",
        "So the goal of this coding assigment is to play around with the hyperparameters (code cell 3) and neural network architecture (code cell 2 in the \n",
        "``` create_model() ``` \n",
        "function). Try adding or removing layers, try new [layer types ](https://www.tensorflow.org/api_docs/python/tf/keras/layers), changing the filter sizes, etc. See if you can improve the accuracy or runtime! My only recommendation is that you leave the final layer alone...don't touch or move the last dense layer of the model.\n",
        "\n",
        "\n",
        "<center><img src='https://camo.githubusercontent.com/d440ac2eee1cb3ea33340a2c5f6f15a0878e9275/687474703a2f2f692e7974696d672e636f6d2f76692f3051493378675875422d512f687164656661756c742e6a7067'></center>\n",
        "\n",
        "\n",
        "For group meeting next week, please submit a colab notebook to the GitHub so we can see what you have come up with! \n",
        "\n",
        "---\n",
        "\n",
        "\n",
        "disclaimer: most of this code was stolen from the tensorflow [website](https://colab.research.google.com/github/tensorflow/tensorboard/blob/master/docs/get_started.ipynb#scrollTo=A4UKgTLb9fKI) "
      ]
    },
    {
      "cell_type": "markdown",
      "metadata": {
        "id": "HseLeabxX-y8",
        "colab_type": "text"
      },
      "source": [
        "## Setting up our workspace\n",
        "The first step will be importing useful modules for building our neural network."
      ]
    },
    {
      "cell_type": "code",
      "metadata": {
        "id": "3JKzPR754Cfc",
        "colab_type": "code",
        "outputId": "94551018-4cdf-47b0-b1fd-d5f7e064055e",
        "colab": {
          "base_uri": "https://localhost:8080/",
          "height": 148
        }
      },
      "source": [
        "# First we are going to make sure we are using the most up to date version of tensorflow\n",
        "try:\n",
        "# %tensorflow_version only exists in Colab.\n",
        "  %tensorflow_version  2.0.0b1\n",
        "except Exception:\n",
        "  pass\n",
        "\n",
        "# Load the TensorBoard notebook extension\n",
        "# Tensorboard is a cool visualization component of tensorflow. \n",
        "# helps keep track of training metrics\n",
        "%load_ext tensorboard\n",
        "\n",
        "# Import tensorflow and datetime and TensorBoard\n",
        "import tensorflow as tf\n",
        "import datetime\n",
        "from keras.callbacks import TensorBoard\n",
        "\n",
        "\n",
        "# Clear any logs from previous runs\n",
        "!rm -rf ./logs/ "
      ],
      "execution_count": 1,
      "outputs": [
        {
          "output_type": "stream",
          "text": [
            "`%tensorflow_version` only switches the major version: `1.x` or `2.x`.\n",
            "You set: `2.0.0b1`. This will be interpreted as: `2.x`.\n",
            "\n",
            "\n",
            "TensorFlow 2.x selected.\n"
          ],
          "name": "stdout"
        },
        {
          "output_type": "stream",
          "text": [
            "Using TensorFlow backend.\n"
          ],
          "name": "stderr"
        }
      ]
    },
    {
      "cell_type": "markdown",
      "metadata": {
        "id": "njgMLqvEYUx1",
        "colab_type": "text"
      },
      "source": [
        "## Loading MNIST\n",
        "Now we will load in the MNIST dataset. Thankfully, it is built into keras. Then split the dataset into training and testing portions. I encourage you to read up on training and test sets if you are unfamiliar. "
      ]
    },
    {
      "cell_type": "code",
      "metadata": {
        "id": "HUkXESzC2ll_",
        "colab_type": "code",
        "colab": {}
      },
      "source": [
        "from keras.utils.np_utils import to_categorical\n",
        "\n",
        "# Load Dataset\n",
        "mnist = tf.keras.datasets.mnist\n",
        "\n",
        "# Split Dataset into training and testing\n",
        "(x_train, y_train),(x_test, y_test) = mnist.load_data()\n",
        "\n",
        "# normalize pixel values to between 0 and 1\n",
        "x_train, x_test = x_train / 255.0, x_test / 255.0\n",
        "\n",
        "# Reshape to match convolutional layer\n",
        "x_train = x_train.reshape(len(x_train), 28, 28, 1)\n",
        "x_test = x_test.reshape(len(x_test), 28, 28, 1)\n",
        "\n",
        "# Reshape Y train data into categorical\n",
        "# y_train = to_categorical(y_train, 10)\n",
        "# y_test = to_categorical(y_test, 10)\n",
        "\n"
      ],
      "execution_count": 0,
      "outputs": []
    },
    {
      "cell_type": "markdown",
      "metadata": {
        "id": "WM5Ks_BA50RB",
        "colab_type": "text"
      },
      "source": [
        "# Check shape of the data"
      ]
    },
    {
      "cell_type": "code",
      "metadata": {
        "id": "4D4HS3un5yRx",
        "colab_type": "code",
        "colab": {
          "base_uri": "https://localhost:8080/",
          "height": 85
        },
        "outputId": "bb9f1a5a-b6a5-4788-fb25-42e1b0f08deb"
      },
      "source": [
        "print('x-shape:', x_train.shape)\n",
        "print('y-shape:', y_train.shape)\n",
        "print('first x-values:', 'not printing because ugly matrix; no one wants to see that')\n",
        "print('first y-value:', y_train[0])"
      ],
      "execution_count": 3,
      "outputs": [
        {
          "output_type": "stream",
          "text": [
            "x-shape: (60000, 28, 28, 1)\n",
            "y-shape: (60000,)\n",
            "first x-values: not printing because ugly matrix; no one wants to see that\n",
            "first y-value: 5\n"
          ],
          "name": "stdout"
        }
      ]
    },
    {
      "cell_type": "markdown",
      "metadata": {
        "id": "aeXLo1ZJ328x",
        "colab_type": "text"
      },
      "source": [
        "# Check what the data actually looks like"
      ]
    },
    {
      "cell_type": "code",
      "metadata": {
        "id": "qa-bDpWXbzZK",
        "colab_type": "code",
        "colab": {
          "base_uri": "https://localhost:8080/",
          "height": 605
        },
        "outputId": "50aa2738-c164-4736-cb73-c4239f9f335a"
      },
      "source": [
        "import matplotlib.pyplot as plt\n",
        "\n",
        "plt.figure(figsize=(10,10))\n",
        "for i in range(25):\n",
        "    plt.subplot(5,5,i+1)\n",
        "    \n",
        "    # Delete xticklabels because we don't care\n",
        "    plt.xticks([])\n",
        "    plt.yticks([])\n",
        "\n",
        "    # We don't want a grid either\n",
        "    plt.grid(False)\n",
        "\n",
        "    # Plot image\n",
        "    plt.imshow(x_train[i,: , :, 0], cmap=plt.cm.binary)\n",
        "\n",
        "    # Put the label as xlabel\n",
        "    plt.xlabel(y_train[i])\n",
        "\n",
        "    # Put title above 3 image in first row\n",
        "    if i==3-1:\n",
        "      plt.title(\"Training data\")\n",
        "\n",
        "plt.show()"
      ],
      "execution_count": 4,
      "outputs": [
        {
          "output_type": "display_data",
          "data": {
            "image/png": "[encoded data removed]",
            "text/plain": [
              "<Figure size 720x720 with 25 Axes>"
            ]
          },
          "metadata": {
            "tags": []
          }
        }
      ]
    },
    {
      "cell_type": "markdown",
      "metadata": {
        "id": "I9F_c99LZV-U",
        "colab_type": "text"
      },
      "source": [
        "## Defining the architecture of our neural network\n",
        "\n",
        "This is the block of code you should spend the most time playing with. "
      ]
    },
    {
      "cell_type": "code",
      "metadata": {
        "id": "otetGoX3ZVgs",
        "colab_type": "code",
        "colab": {
          "base_uri": "https://localhost:8080/",
          "height": 391
        },
        "outputId": "9d347666-9adc-4993-e3d0-d184938ab246"
      },
      "source": [
        "from tensorflow.keras.models import Sequential\n",
        "from tensorflow.keras.layers import Dense, Dropout, Activation, Convolution2D, \\\n",
        "                                    MaxPooling2D, Flatten, InputLayer\n",
        "from tensorflow.keras.optimizers import SGD\n",
        "from tensorflow.keras.callbacks import ModelCheckpoint\n",
        "\n",
        "# Create a function to build a model \n",
        "def create_model():\n",
        "    model = tf.keras.models.Sequential()\n",
        "    model.add(InputLayer(input_shape=(28, 28, 1)))\n",
        "\n",
        "    # 1st Convolutional Layer\n",
        "    model.add(Convolution2D(32, (3, 3), activation='relu'))\n",
        "    model.add(MaxPooling2D(pool_size=(2,2)))\n",
        "    model.add(Dropout(.5))\n",
        "\n",
        "    # # 2nd Convolutional Layer\n",
        "    # model.add(Convolution2D(64, (3, 3), activation='relu'))\n",
        "    # model.add(MaxPooling2D(pool_size=(2,2)))\n",
        "    # model.add(Dropout(.5))\n",
        "\n",
        "    #### MOOOREEEE (S)LAAAAYYEEEEERRRSSSSS ############\n",
        "\n",
        "    # # 3rd Convolutional Layer\n",
        "    # model.add(Convolution2D(32, (3, 3), activation='relu'))\n",
        "    # model.add(MaxPooling2D(pool_size=(2,2)))\n",
        "    # model.add(Dropout(.5))\n",
        "\n",
        "    # Flattening\n",
        "    model.add(Flatten())\n",
        "\n",
        "    # Full Connection\n",
        "    model.add(Dense(64, activation='relu'))\n",
        "    model.add(Dropout(0.5))\n",
        "    model.add(Dense(10, activation='softmax'))\n",
        "\n",
        "    return model\n",
        "\n",
        "# Hyperparameters\n",
        "num_epochs = 5   # An epoch is the number of times the network will see each instance of training data\n",
        "adam = 'adam'\n",
        "sgd = SGD(lr=0.01, decay=1e-6, momentum=0.9, nesterov=True)\n",
        "loss = 'sparse_categorical_crossentropy'\n",
        "metrics = 'accuracy'\n",
        "\n",
        "# Create model and summarize the \n",
        "model = create_model()\n",
        "model.summary()\n",
        "\n",
        "# Create Checkpoint for best model weights before overfitting\n",
        "checkpointer = ModelCheckpoint(filepath=\"best_weights.hdf5\", \n",
        "                               monitor = 'val_acc',\n",
        "                               verbose=1,\n",
        "                               save_best_only=True)\n"
      ],
      "execution_count": 5,
      "outputs": [
        {
          "output_type": "stream",
          "text": [
            "Model: \"sequential\"\n",
            "_________________________________________________________________\n",
            "Layer (type)                 Output Shape              Param #   \n",
            "=================================================================\n",
            "conv2d (Conv2D)              (None, 26, 26, 32)        320       \n",
            "_________________________________________________________________\n",
            "max_pooling2d (MaxPooling2D) (None, 13, 13, 32)        0         \n",
            "_________________________________________________________________\n",
            "dropout (Dropout)            (None, 13, 13, 32)        0         \n",
            "_________________________________________________________________\n",
            "flatten (Flatten)            (None, 5408)              0         \n",
            "_________________________________________________________________\n",
            "dense (Dense)                (None, 64)                346176    \n",
            "_________________________________________________________________\n",
            "dropout_1 (Dropout)          (None, 64)                0         \n",
            "_________________________________________________________________\n",
            "dense_1 (Dense)              (None, 10)                650       \n",
            "=================================================================\n",
            "Total params: 347,146\n",
            "Trainable params: 347,146\n",
            "Non-trainable params: 0\n",
            "_________________________________________________________________\n"
          ],
          "name": "stdout"
        }
      ]
    },
    {
      "cell_type": "markdown",
      "metadata": {
        "id": "QrjHtbWDL3NO",
        "colab_type": "text"
      },
      "source": [
        "## Running the model\n",
        "\n",
        "Now we will define, compile, and fit the model. The tensorboard_callback variable is just there to collect some of the training statistics so we can plot them later. "
      ]
    },
    {
      "cell_type": "code",
      "metadata": {
        "id": "THZMHFFk35Ac",
        "colab_type": "code",
        "outputId": "28798c94-0f90-43a7-f322-56892e0eb3b4",
        "colab": {
          "base_uri": "https://localhost:8080/",
          "height": 1000
        }
      },
      "source": [
        "\n",
        "\n",
        "model.compile(optimizer=adam,\n",
        "              loss=loss,\n",
        "              callbacks=[checkpointer],\n",
        "              metrics=[metrics])\n",
        "\n",
        "\n",
        "log_dir=\"logs/fit/\" +datetime.datetime.now().strftime(\"%Y%m%d-%H%M%S\")\n",
        "tensorboard_callback = tf.keras.callbacks.TensorBoard(log_dir=log_dir)\n",
        "\n",
        "history = model.fit(x=x_train, \n",
        "                    y=y_train, \n",
        "                    epochs=num_epochs, \n",
        "                    validation_data=(x_test, y_test), \n",
        "                    callbacks=[tensorboard_callback])\n",
        "\n"
      ],
      "execution_count": 6,
      "outputs": [
        {
          "output_type": "stream",
          "text": [
            "Train on 60000 samples, validate on 10000 samples\n",
            "Epoch 1/5\n",
            "60000/60000 [==============================] - 32s 537us/sample - loss: 0.3980 - accuracy: 0.8793 - val_loss: 0.0942 - val_accuracy: 0.9711\n",
            "Epoch 2/5\n",
            "60000/60000 [==============================] - 30s 508us/sample - loss: 0.1896 - accuracy: 0.9433 - val_loss: 0.0727 - val_accuracy: 0.9770\n",
            "Epoch 3/5\n",
            "60000/60000 [==============================] - 31s 514us/sample - loss: 0.1565 - accuracy: 0.9517 - val_loss: 0.0562 - val_accuracy: 0.9815\n",
            "Epoch 4/5\n",
            "60000/60000 [==============================] - 31s 512us/sample - loss: 0.1377 - accuracy: 0.9585 - val_loss: 0.0509 - val_accuracy: 0.9843\n",
            "Epoch 5/5\n",
            "60000/60000 [==============================] - 31s 514us/sample - loss: 0.1269 - accuracy: 0.9624 - val_loss: 0.0504 - val_accuracy: 0.9850\n"
          ],
          "name": "stdout"
        }
      ]
    },
    {
      "cell_type": "markdown",
      "metadata": {
        "id": "ttxbOvDOJ9is",
        "colab_type": "text"
      },
      "source": [
        "## TensorBoard\n",
        "\n",
        "Tensorboard is a nice tool made by Tensorflow so you can see how your model trained. Check out all the tabs across the top of the window and see the different plots. Honestly, I am not sure what all of them mean, but they look cool. "
      ]
    },
    {
      "cell_type": "code",
      "metadata": {
        "id": "DBT69Yuq7FDM",
        "colab_type": "code",
        "outputId": "ae20159d-1fda-4533-cae6-77a6b27fab24",
        "colab": {
          "base_uri": "https://localhost:8080/",
          "height": 34
        }
      },
      "source": [
        "# %tensorboard --logdir logs/fit/\n",
        "!kill 2096\n"
      ],
      "execution_count": 7,
      "outputs": [
        {
          "output_type": "stream",
          "text": [
            "/bin/bash: line 0: kill: (2096) - No such process\n"
          ],
          "name": "stdout"
        }
      ]
    },
    {
      "cell_type": "code",
      "metadata": {
        "id": "NxqsjI7d8Vaf",
        "colab_type": "code",
        "colab": {}
      },
      "source": [
        ""
      ],
      "execution_count": 0,
      "outputs": []
    },
    {
      "cell_type": "markdown",
      "metadata": {
        "id": "_MG9B-Sw8ib-",
        "colab_type": "text"
      },
      "source": [
        "## Visualizing Accuracy"
      ]
    },
    {
      "cell_type": "code",
      "metadata": {
        "id": "wmu952Xn8pO0",
        "colab_type": "code",
        "colab": {
          "base_uri": "https://localhost:8080/",
          "height": 472
        },
        "outputId": "88750aa9-79cc-46fc-98ed-5e2cafe77e01"
      },
      "source": [
        "acc = history.history['accuracy']\n",
        "val_acc = history.history['val_accuracy']\n",
        "loss = history.history['loss']\n",
        "val_loss = history.history['val_loss']\n",
        "epochs = range(1, len(acc) + 1)\n",
        "\n",
        "fig, ax = plt.subplots(2,1, figsize=(5,7.5), sharex=True)\n",
        "# Accuracy plot\n",
        "ax[0].plot(epochs, acc, c=(0.85, 0.2 ,0.2), label='Training acc')\n",
        "ax[0].plot(epochs, val_acc, c=(0.2, 0.2 ,0.85), label='Validation acc')\n",
        "ax[0].set_title('Training and validation accuracy')\n",
        "ax[0].legend()\n",
        "\n",
        "# Loss plot\n",
        "ax[1].plot(epochs, loss, c=(0.85, 0.2 ,0.2), label='Training loss')\n",
        "ax[1].plot(epochs, val_loss, c=(0.2, 0.2 ,0.85), label='Validation loss')\n",
        "ax[1].set_title('Training and validation loss')\n",
        "ax[1].legend()\n",
        "plt.show()"
      ],
      "execution_count": 8,
      "outputs": [
        {
          "output_type": "display_data",
          "data": {
            "image/png": "[encoded data removed]",
            "text/plain": [
              "<Figure size 360x540 with 2 Axes>"
            ]
          },
          "metadata": {
            "tags": []
          }
        }
      ]
    },
    {
      "cell_type": "markdown",
      "metadata": {
        "id": "5pp6saUX8PDj",
        "colab_type": "text"
      },
      "source": [
        "# Exploring the convolutional layers\n"
      ]
    },
    {
      "cell_type": "code",
      "metadata": {
        "id": "UV_-tC24_8Ut",
        "colab_type": "code",
        "colab": {
          "base_uri": "https://localhost:8080/",
          "height": 333
        },
        "outputId": "f8535e91-adab-40f6-e6aa-ea39d4b5f405"
      },
      "source": [
        "import numpy as np\n",
        "\n",
        "# Generate Random integer\n",
        "# Create same random number over and over by setting see number\n",
        "np.random.seed(200892) \n",
        "ind = np.random.randint(0,10000)\n",
        "\n",
        "x_fun = np.reshape(x_test[ind],(1, 28, 28, 1))\n",
        "y_fun = y_test[ind]\n",
        "\n",
        "plt.figure(figsize=(5,5))\n",
        "plt.xticks([])\n",
        "plt.yticks([])\n",
        "plt.grid(False)\n",
        "plt.imshow(x_fun[0,:,:,0], cmap=plt.cm.binary)\n",
        "plt.xlabel(y_fun)\n",
        "plt.title(\"Training data\")\n",
        "plt.show()"
      ],
      "execution_count": 9,
      "outputs": [
        {
          "output_type": "display_data",
          "data": {
            "image/png": "[encoded data removed]",
            "text/plain": [
              "<Figure size 360x360 with 1 Axes>"
            ]
          },
          "metadata": {
            "tags": []
          }
        }
      ]
    },
    {
      "cell_type": "markdown",
      "metadata": {
        "id": "wu49TyQ5BK-k",
        "colab_type": "text"
      },
      "source": [
        "## Predict class!"
      ]
    },
    {
      "cell_type": "code",
      "metadata": {
        "id": "v6qnz9JEBFwq",
        "colab_type": "code",
        "colab": {
          "base_uri": "https://localhost:8080/",
          "height": 34
        },
        "outputId": "74b8dffc-a6ff-472f-e1d5-3e1f6b686ca4"
      },
      "source": [
        "classes = model.predict_classes(x_fun, batch_size=10)\n",
        "print(\"Predicted class is:\",classes)\n"
      ],
      "execution_count": 10,
      "outputs": [
        {
          "output_type": "stream",
          "text": [
            "Predicted class is: [3]\n"
          ],
          "name": "stdout"
        }
      ]
    },
    {
      "cell_type": "markdown",
      "metadata": {
        "id": "FDNlyLRTBkT3",
        "colab_type": "text"
      },
      "source": [
        "Yay! It worked!\n",
        "\n",
        "## Now let's look at the intermediate convolutional layers\n"
      ]
    },
    {
      "cell_type": "code",
      "metadata": {
        "id": "AyYXotKbBjD3",
        "colab_type": "code",
        "colab": {
          "base_uri": "https://localhost:8080/",
          "height": 375
        },
        "outputId": "7bb4a72f-6ce9-4777-9756-958f2ef0c798"
      },
      "source": [
        "from keras import models\n",
        "\n",
        "layer_outputs = [layer.output for layer in model.layers[:12]] \n",
        "# Extracts the outputs of the top 12 layers\n",
        "# Creates a model that will return these outputs, given the model input\n",
        "activation_model = models.Model(inputs=model.input, outputs=layer_outputs) \n",
        "\n",
        "activations = activation_model.predict(x_fun) \n",
        "# Returns a list of five Numpy arrays: one array per layer activation"
      ],
      "execution_count": 11,
      "outputs": [
        {
          "output_type": "error",
          "ename": "TypeError",
          "evalue": "ignored",
          "traceback": [
            "\u001b[0;31m---------------------------------------------------------------------------\u001b[0m",
            "\u001b[0;31mTypeError\u001b[0m                                 Traceback (most recent call last)",
            "\u001b[0;32m<ipython-input-11-943b2d38aed8>\u001b[0m in \u001b[0;36m<module>\u001b[0;34m()\u001b[0m\n\u001b[1;32m      4\u001b[0m \u001b[0;31m# Extracts the outputs of the top 12 layers\u001b[0m\u001b[0;34m\u001b[0m\u001b[0;34m\u001b[0m\u001b[0;34m\u001b[0m\u001b[0m\n\u001b[1;32m      5\u001b[0m \u001b[0;31m# Creates a model that will return these outputs, given the model input\u001b[0m\u001b[0;34m\u001b[0m\u001b[0;34m\u001b[0m\u001b[0;34m\u001b[0m\u001b[0m\n\u001b[0;32m----> 6\u001b[0;31m \u001b[0mactivation_model\u001b[0m \u001b[0;34m=\u001b[0m \u001b[0mmodels\u001b[0m\u001b[0;34m.\u001b[0m\u001b[0mModel\u001b[0m\u001b[0;34m(\u001b[0m\u001b[0minputs\u001b[0m\u001b[0;34m=\u001b[0m\u001b[0mmodel\u001b[0m\u001b[0;34m.\u001b[0m\u001b[0minput\u001b[0m\u001b[0;34m,\u001b[0m \u001b[0moutputs\u001b[0m\u001b[0;34m=\u001b[0m\u001b[0mlayer_outputs\u001b[0m\u001b[0;34m)\u001b[0m\u001b[0;34m\u001b[0m\u001b[0;34m\u001b[0m\u001b[0m\n\u001b[0m\u001b[1;32m      7\u001b[0m \u001b[0;34m\u001b[0m\u001b[0m\n\u001b[1;32m      8\u001b[0m \u001b[0mactivations\u001b[0m \u001b[0;34m=\u001b[0m \u001b[0mactivation_model\u001b[0m\u001b[0;34m.\u001b[0m\u001b[0mpredict\u001b[0m\u001b[0;34m(\u001b[0m\u001b[0mx_fun\u001b[0m\u001b[0;34m)\u001b[0m\u001b[0;34m\u001b[0m\u001b[0;34m\u001b[0m\u001b[0m\n",
            "\u001b[0;32m/usr/local/lib/python3.6/dist-packages/keras/legacy/interfaces.py\u001b[0m in \u001b[0;36mwrapper\u001b[0;34m(*args, **kwargs)\u001b[0m\n\u001b[1;32m     89\u001b[0m                 warnings.warn('Update your `' + object_name + '` call to the ' +\n\u001b[1;32m     90\u001b[0m                               'Keras 2 API: ' + signature, stacklevel=2)\n\u001b[0;32m---> 91\u001b[0;31m             \u001b[0;32mreturn\u001b[0m \u001b[0mfunc\u001b[0m\u001b[0;34m(\u001b[0m\u001b[0;34m*\u001b[0m\u001b[0margs\u001b[0m\u001b[0;34m,\u001b[0m \u001b[0;34m**\u001b[0m\u001b[0mkwargs\u001b[0m\u001b[0;34m)\u001b[0m\u001b[0;34m\u001b[0m\u001b[0;34m\u001b[0m\u001b[0m\n\u001b[0m\u001b[1;32m     92\u001b[0m         \u001b[0mwrapper\u001b[0m\u001b[0;34m.\u001b[0m\u001b[0m_original_function\u001b[0m \u001b[0;34m=\u001b[0m \u001b[0mfunc\u001b[0m\u001b[0;34m\u001b[0m\u001b[0;34m\u001b[0m\u001b[0m\n\u001b[1;32m     93\u001b[0m         \u001b[0;32mreturn\u001b[0m \u001b[0mwrapper\u001b[0m\u001b[0;34m\u001b[0m\u001b[0;34m\u001b[0m\u001b[0m\n",
            "\u001b[0;32m/usr/local/lib/python3.6/dist-packages/keras/engine/network.py\u001b[0m in \u001b[0;36m__init__\u001b[0;34m(self, *args, **kwargs)\u001b[0m\n\u001b[1;32m     92\u001b[0m                 'inputs' in kwargs and 'outputs' in kwargs):\n\u001b[1;32m     93\u001b[0m             \u001b[0;31m# Graph network\u001b[0m\u001b[0;34m\u001b[0m\u001b[0;34m\u001b[0m\u001b[0;34m\u001b[0m\u001b[0m\n\u001b[0;32m---> 94\u001b[0;31m             \u001b[0mself\u001b[0m\u001b[0;34m.\u001b[0m\u001b[0m_init_graph_network\u001b[0m\u001b[0;34m(\u001b[0m\u001b[0;34m*\u001b[0m\u001b[0margs\u001b[0m\u001b[0;34m,\u001b[0m \u001b[0;34m**\u001b[0m\u001b[0mkwargs\u001b[0m\u001b[0;34m)\u001b[0m\u001b[0;34m\u001b[0m\u001b[0;34m\u001b[0m\u001b[0m\n\u001b[0m\u001b[1;32m     95\u001b[0m         \u001b[0;32melse\u001b[0m\u001b[0;34m:\u001b[0m\u001b[0;34m\u001b[0m\u001b[0;34m\u001b[0m\u001b[0m\n\u001b[1;32m     96\u001b[0m             \u001b[0;31m# Subclassed network\u001b[0m\u001b[0;34m\u001b[0m\u001b[0;34m\u001b[0m\u001b[0;34m\u001b[0m\u001b[0m\n",
            "\u001b[0;32m/usr/local/lib/python3.6/dist-packages/keras/engine/network.py\u001b[0m in \u001b[0;36m_init_graph_network\u001b[0;34m(self, inputs, outputs, name, **kwargs)\u001b[0m\n\u001b[1;32m    151\u001b[0m         \u001b[0;31m# User-provided argument validation.\u001b[0m\u001b[0;34m\u001b[0m\u001b[0;34m\u001b[0m\u001b[0;34m\u001b[0m\u001b[0m\n\u001b[1;32m    152\u001b[0m         \u001b[0;31m# Check for redundancy in inputs.\u001b[0m\u001b[0;34m\u001b[0m\u001b[0;34m\u001b[0m\u001b[0;34m\u001b[0m\u001b[0m\n\u001b[0;32m--> 153\u001b[0;31m         \u001b[0;32mif\u001b[0m \u001b[0mlen\u001b[0m\u001b[0;34m(\u001b[0m\u001b[0mset\u001b[0m\u001b[0;34m(\u001b[0m\u001b[0mself\u001b[0m\u001b[0;34m.\u001b[0m\u001b[0minputs\u001b[0m\u001b[0;34m)\u001b[0m\u001b[0;34m)\u001b[0m \u001b[0;34m!=\u001b[0m \u001b[0mlen\u001b[0m\u001b[0;34m(\u001b[0m\u001b[0mself\u001b[0m\u001b[0;34m.\u001b[0m\u001b[0minputs\u001b[0m\u001b[0;34m)\u001b[0m\u001b[0;34m:\u001b[0m\u001b[0;34m\u001b[0m\u001b[0;34m\u001b[0m\u001b[0m\n\u001b[0m\u001b[1;32m    154\u001b[0m             raise ValueError('The list of inputs passed to the model '\n\u001b[1;32m    155\u001b[0m                              \u001b[0;34m'is redundant. '\u001b[0m\u001b[0;34m\u001b[0m\u001b[0;34m\u001b[0m\u001b[0m\n",
            "\u001b[0;32m/tensorflow-2.0.0/python3.6/tensorflow_core/python/framework/ops.py\u001b[0m in \u001b[0;36m__hash__\u001b[0;34m(self)\u001b[0m\n\u001b[1;32m    711\u001b[0m     if (Tensor._USE_EQUALITY and executing_eagerly_outside_functions() and\n\u001b[1;32m    712\u001b[0m         (g is None or g._building_function)):  # pylint: disable=protected-access\n\u001b[0;32m--> 713\u001b[0;31m       raise TypeError(\"Tensor is unhashable if Tensor equality is enabled. \"\n\u001b[0m\u001b[1;32m    714\u001b[0m                       \"Instead, use tensor.experimental_ref() as the key.\")\n\u001b[1;32m    715\u001b[0m     \u001b[0;32melse\u001b[0m\u001b[0;34m:\u001b[0m\u001b[0;34m\u001b[0m\u001b[0;34m\u001b[0m\u001b[0m\n",
            "\u001b[0;31mTypeError\u001b[0m: Tensor is unhashable if Tensor equality is enabled. Instead, use tensor.experimental_ref() as the key."
          ]
        }
      ]
    },
    {
      "cell_type": "markdown",
      "metadata": {
        "id": "pakRZgXTKQvf",
        "colab_type": "text"
      },
      "source": [
        "## Some things to explore\n",
        "\n",
        "\n",
        "1.   You will notice that if you just increase the number of training epochs, the model will become overfit, find some ways to reduce the overfitting problem.\n",
        "2.   Try adding some convolutional layers\n",
        "3.   You will notice that convolutional layers are 2D matrices, you can visualize them just like you would an image. It can be interesting to see what they look like. \n",
        "4.   There are dozens of hyperparameters. Explore the documentation for the layers and model.fit to see what might be interesting. \n",
        "5. If you can figure out how to view your models training progress as it trains, please share \n",
        "\n"
      ]
    },
    {
      "cell_type": "code",
      "metadata": {
        "id": "NJ0Gg9IlBFLp",
        "colab_type": "code",
        "colab": {}
      },
      "source": [
        ""
      ],
      "execution_count": 0,
      "outputs": []
    }
  ]
}